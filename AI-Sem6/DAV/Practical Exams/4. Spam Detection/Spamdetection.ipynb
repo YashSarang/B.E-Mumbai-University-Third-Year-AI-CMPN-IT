{
 "cells": [
  {
   "cell_type": "code",
   "execution_count": 1,
   "id": "a02c4fce",
   "metadata": {},
   "outputs": [],
   "source": [
    "import pandas as pd\n",
    "from sklearn.feature_extraction.text import CountVectorizer\n",
    "from sklearn.svm import SVC\n",
    "\n",
    "# Load the dataset\n",
    "spam_data = pd.read_csv(\"spam_or_not_spam.csv\")\n"
   ]
  },
  {
   "cell_type": "code",
   "execution_count": 2,
   "id": "ce3da61b",
   "metadata": {},
   "outputs": [
    {
     "data": {
      "text/plain": [
       "email    1\n",
       "label    0\n",
       "dtype: int64"
      ]
     },
     "execution_count": 2,
     "metadata": {},
     "output_type": "execute_result"
    }
   ],
   "source": [
    "spam_data.isnull().sum()"
   ]
  },
  {
   "cell_type": "code",
   "execution_count": 3,
   "id": "9d42f39f",
   "metadata": {},
   "outputs": [],
   "source": [
    "spam_data.dropna(inplace=True)"
   ]
  },
  {
   "cell_type": "code",
   "execution_count": 4,
   "id": "330237df",
   "metadata": {},
   "outputs": [
    {
     "data": {
      "text/plain": [
       "email    0\n",
       "label    0\n",
       "dtype: int64"
      ]
     },
     "execution_count": 4,
     "metadata": {},
     "output_type": "execute_result"
    }
   ],
   "source": [
    "spam_data.isnull().sum()"
   ]
  },
  {
   "cell_type": "code",
   "execution_count": 5,
   "id": "514bb10b",
   "metadata": {},
   "outputs": [
    {
     "data": {
      "text/plain": [
       "SVC(kernel='linear')"
      ]
     },
     "execution_count": 5,
     "metadata": {},
     "output_type": "execute_result"
    }
   ],
   "source": [
    "vectorizer = CountVectorizer()\n",
    "X_counts = vectorizer.fit_transform(spam_data[\"email\"])\n",
    "\n",
    "# Train a SVM classifier\n",
    "clf = SVC(kernel=\"linear\")\n",
    "clf.fit(X_counts, spam_data[\"label\"])\n"
   ]
  },
  {
   "cell_type": "code",
   "execution_count": 6,
   "id": "eac61ba8",
   "metadata": {},
   "outputs": [
    {
     "name": "stdout",
     "output_type": "stream",
     "text": [
      "Enter email text: sorry mary, could not come to your house last month. lets meet this week.\n",
      "Prediction: 0\n"
     ]
    }
   ],
   "source": [
    "custom_input = input(\"Enter email text: \")\n",
    "\n",
    "# Convert custom input into numerical features\n",
    "custom_input_counts = vectorizer.transform([custom_input])\n",
    "\n",
    "# Make prediction\n",
    "prediction = clf.predict(custom_input_counts)\n",
    "\n",
    "# Print prediction\n",
    "print(f\"Prediction: {prediction[0]}\")"
   ]
  },
  {
   "cell_type": "code",
   "execution_count": null,
   "id": "520e6946",
   "metadata": {},
   "outputs": [],
   "source": []
  }
 ],
 "metadata": {
  "kernelspec": {
   "display_name": "Python 3 (ipykernel)",
   "language": "python",
   "name": "python3"
  },
  "language_info": {
   "codemirror_mode": {
    "name": "ipython",
    "version": 3
   },
   "file_extension": ".py",
   "mimetype": "text/x-python",
   "name": "python",
   "nbconvert_exporter": "python",
   "pygments_lexer": "ipython3",
   "version": "3.9.13"
  }
 },
 "nbformat": 4,
 "nbformat_minor": 5
}
