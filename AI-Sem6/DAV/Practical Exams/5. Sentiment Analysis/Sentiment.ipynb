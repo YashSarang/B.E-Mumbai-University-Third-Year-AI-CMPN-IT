{
 "cells": [
  {
   "cell_type": "markdown",
   "metadata": {
    "id": "Dv01ltpT-hJp"
   },
   "source": [
    "# Experiment 6 - Sentiment Analysis"
   ]
  },
  {
   "cell_type": "code",
   "execution_count": 1,
   "metadata": {
    "colab": {
     "base_uri": "https://localhost:8080/"
    },
    "executionInfo": {
     "elapsed": 4152,
     "status": "ok",
     "timestamp": 1681239650002,
     "user": {
      "displayName": "ROHAN SINGH",
      "userId": "18146013653474369370"
     },
     "user_tz": -330
    },
    "id": "VCPzEy_7eNsv",
    "outputId": "db071f32-fd13-413e-8088-a334456bccec"
   },
   "outputs": [
    {
     "name": "stdout",
     "output_type": "stream",
     "text": [
      "Requirement already satisfied: vaderSentiment in c:\\users\\tanvi\\anaconda3\\lib\\site-packages (3.3.2)\n",
      "Requirement already satisfied: requests in c:\\users\\tanvi\\anaconda3\\lib\\site-packages (from vaderSentiment) (2.28.1)\n",
      "Requirement already satisfied: charset-normalizer<3,>=2 in c:\\users\\tanvi\\anaconda3\\lib\\site-packages (from requests->vaderSentiment) (2.0.4)\n",
      "Requirement already satisfied: urllib3<1.27,>=1.21.1 in c:\\users\\tanvi\\anaconda3\\lib\\site-packages (from requests->vaderSentiment) (1.26.11)\n",
      "Requirement already satisfied: certifi>=2017.4.17 in c:\\users\\tanvi\\anaconda3\\lib\\site-packages (from requests->vaderSentiment) (2022.9.14)\n",
      "Requirement already satisfied: idna<4,>=2.5 in c:\\users\\tanvi\\anaconda3\\lib\\site-packages (from requests->vaderSentiment) (3.3)\n"
     ]
    }
   ],
   "source": [
    "!pip install vaderSentiment"
   ]
  },
  {
   "cell_type": "code",
   "execution_count": 2,
   "metadata": {
    "id": "zUA4UFEeadqG"
   },
   "outputs": [],
   "source": [
    "from vaderSentiment.vaderSentiment import SentimentIntensityAnalyzer"
   ]
  },
  {
   "cell_type": "code",
   "execution_count": 8,
   "metadata": {
    "colab": {
     "base_uri": "https://localhost:8080/"
    },
    "executionInfo": {
     "elapsed": 6,
     "status": "ok",
     "timestamp": 1681239659463,
     "user": {
      "displayName": "ROHAN SINGH",
      "userId": "18146013653474369370"
     },
     "user_tz": -330
    },
    "id": "5vnveTkFbC_2",
    "outputId": "def3fe79-8f91-4e14-86fc-a37874aa7173"
   },
   "outputs": [
    {
     "name": "stdout",
     "output_type": "stream",
     "text": [
      "Sentiment of text 1: {'neg': 0.0, 'neu': 0.64, 'pos': 0.36, 'compound': 0.5423}\n",
      "Sentiment of text 2: {'neg': 0.552, 'neu': 0.448, 'pos': 0.0, 'compound': -0.5719}\n",
      "Sentiment of text 3: {'neg': 0.0, 'neu': 1.0, 'pos': 0.0, 'compound': 0.0}\n",
      "Sentiment of text 4: {'neg': 0.0, 'neu': 0.374, 'pos': 0.626, 'compound': 0.7717}\n"
     ]
    }
   ],
   "source": [
    "sentiment = SentimentIntensityAnalyzer()\n",
    "\n",
    "text_1 = \"I wish i could go to the Taylor Swift concert.\"\n",
    "\n",
    "text_2 =  \"I hate Andrew Tate\"\n",
    "\n",
    "text_3 = \"The Nile is a river in Egypt\"\n",
    "\n",
    "text_4 = \"I loved the new marvel movie\"\n",
    "\n",
    "sent_1 = sentiment.polarity_scores(text_1)\n",
    "\n",
    "sent_2 = sentiment.polarity_scores(text_2)\n",
    "\n",
    "sent_3 = sentiment.polarity_scores(text_3)\n",
    "\n",
    "sent_4 = sentiment.polarity_scores(text_4)\n",
    "\n",
    "\n",
    "print(\"Sentiment of text 1:\", sent_1)\n",
    "print(\"Sentiment of text 2:\", sent_2)\n",
    "print(\"Sentiment of text 3:\", sent_3)\n",
    "print(\"Sentiment of text 4:\", sent_4)"
   ]
  },
  {
   "cell_type": "code",
   "execution_count": null,
   "metadata": {
    "id": "Z6XnjWatydm3"
   },
   "outputs": [],
   "source": []
  }
 ],
 "metadata": {
  "accelerator": "GPU",
  "colab": {
   "gpuType": "T4",
   "provenance": []
  },
  "gpuClass": "standard",
  "kernelspec": {
   "display_name": "Python 3 (ipykernel)",
   "language": "python",
   "name": "python3"
  },
  "language_info": {
   "codemirror_mode": {
    "name": "ipython",
    "version": 3
   },
   "file_extension": ".py",
   "mimetype": "text/x-python",
   "name": "python",
   "nbconvert_exporter": "python",
   "pygments_lexer": "ipython3",
   "version": "3.9.13"
  }
 },
 "nbformat": 4,
 "nbformat_minor": 1
}
