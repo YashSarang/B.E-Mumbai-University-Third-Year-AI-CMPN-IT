{
  "nbformat": 4,
  "nbformat_minor": 0,
  "metadata": {
    "colab": {
      "name": "AND Using MP Neuron Model.ipynb",
      "provenance": []
    },
    "kernelspec": {
      "name": "python3",
      "display_name": "Python 3"
    }
  },
  "cells": [
    {
      "cell_type": "code",
      "metadata": {
        "id": "fw5nAkwiUB73",
        "colab": {
          "base_uri": "https://localhost:8080/",
          "height": 196
        },
        "outputId": "379b6d58-ec3f-4d36-90e3-4b7d79ba9ad1"
      },
      "source": [
        "#AND Operation Using MP Neuron Model\n",
        "import numpy as np\n",
        "\n",
        "x1=np.array([0,0,1,1])\n",
        "x2=np.array([0,1,0,1])\n",
        "t=[0,0,0,1]\n",
        "\n",
        "w1=float(input(\"Enter W1 Weight Value:\"))\n",
        "w2=float(input(\"Enter W2 Weight Value:\"))\n",
        "T=float(input(\"Enter Threshold Value\"))\n",
        "\n",
        "yin = (w1*x1) + (w2*x2) \n",
        "print(\"Yin:\",yin)\n",
        "\n",
        "y=np.array([0,0,0,0])\n",
        "for i in range(4):\n",
        "  if yin[i]>=T:\n",
        "    y[i]=1\n",
        "  else:\n",
        "    y[i]=0  \n",
        "\n",
        "print(\"\")\n",
        "print(\"Target O/P\",t)   \n",
        "print(\"Calculated O/P\",y)   \n",
        "print(\"\")\n",
        "if np.array_equal(y,t):\n",
        "  print(\"Correct Weight And Threshold Values\")\n",
        "else:\n",
        "  print(\"Incorrect Weights, Re-run Code\")  "
      ],
      "execution_count": null,
      "outputs": [
        {
          "output_type": "stream",
          "text": [
            "Enter W1 Weight Value:1\n",
            "Enter W2 Weight Value:1\n",
            "Enter Threshold Value1\n",
            "Yin: [0. 1. 1. 2.]\n",
            "\n",
            "Target O/P [0, 0, 0, 1]\n",
            "Calculated O/P [0 1 1 1]\n",
            "\n",
            "Incorrect Weights, Re-run Code\n"
          ],
          "name": "stdout"
        }
      ]
    }
  ]
}